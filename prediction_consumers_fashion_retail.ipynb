{
 "cells": [
  {
   "cell_type": "markdown",
   "metadata": {},
   "source": [
    "# Project Studi Case : Prediction Consumers Fashion Retail"
   ]
  },
  {
   "cell_type": "markdown",
   "metadata": {},
   "source": [
    "## Understanding Business \n",
    "\n",
    "Dataset yang digunakan yaitu [Consumer Fashion Retail](https://archive.ics.uci.edu/dataset/352/online+retail). membangun model machine learning untuk memprediksi Konsumen Retail Fashion yang berpotensi churn\n",
    "\n",
    "| Variable Name | Role     | Type       | Description                                             | Units   | Missing Values |\n",
    "|---------------|----------|------------|---------------------------------------------------------|---------|----------------|\n",
    "| InvoiceNo     | ID       | Categorical| A 6-digit integral number uniquely assigned to each transaction. If this code starts with letter 'c', it indicates a cancellation | - | no |\n",
    "| StockCode     | ID       | Categorical| A 5-digit integral number uniquely assigned to each distinct product | - | no |\n",
    "| Description   | Feature  | Categorical| Product name | - | no |\n",
    "| Quantity      | Feature  | Integer    | The quantities of each product (item) per transaction  | - | no |\n",
    "| InvoiceDate   | Feature  | Date       | The day and time when each transaction was generated   | - | no |\n",
    "| UnitPrice     | Feature  | Continuous | Product price per unit                                  | sterling | no |\n",
    "| CustomerID    | Feature  | Categorical| A 5-digit integral number uniquely assigned to each customer | - | no |\n",
    "| Country       | Feature  | Categorical| The name of the country where each customer resides     | - | no |\n"
   ]
  },
  {
   "cell_type": "markdown",
   "metadata": {},
   "source": [
    "# Smart Question\n",
    "\n",
    "1. Specific:\n",
    "   - Apa jenis produk yang paling banyak terjual, berdasarkan StockCode?\n",
    "   \n",
    "2. Measurable:\n",
    "   - Berapa rata-rata jumlah produk yang terjual dalam setiap transaksi?\n",
    "\n",
    "3. Action-oriented:\n",
    "   - Dapatkah kita mengklasifikasikan pelanggan berdasarkan negara tempat mereka tinggal?\n",
    "\n",
    "4. Relevant:\n",
    "   - Seberapa pentingnya pemahaman pola pembelian pelanggan dalam meningkatkan retensi pelanggan?\n",
    "\n",
    "5. Time-bound:\n",
    "   - Bisakah kita mengidentifikasi periode waktu tertentu yang memiliki peningkatan atau penurunan signifikan dalam jumlah transaksi?"
   ]
  },
  {
   "cell_type": "markdown",
   "metadata": {},
   "source": [
    "# Importing Library"
   ]
  },
  {
   "cell_type": "code",
   "execution_count": 1,
   "metadata": {},
   "outputs": [],
   "source": [
    "import pandas as pd\n",
    "import numpy as np\n",
    "import seaborn as sns\n",
    "import matplotlib.pyplot as plt\n",
    "from ucimlrepo import fetch_ucirepo\n",
    "import matplotlib.ticker as ticker\n",
    "import missingno as ms\n",
    "import warnings\n",
    "\n",
    "\n",
    "warnings.filterwarnings('ignore')\n",
    "sns.set(style='whitegrid')\n",
    "plt.style.use('Solarize_Light2')"
   ]
  },
  {
   "cell_type": "markdown",
   "metadata": {},
   "source": [
    "# Data Preparation"
   ]
  },
  {
   "cell_type": "markdown",
   "metadata": {},
   "source": [
    "## Gathering Data"
   ]
  },
  {
   "cell_type": "code",
   "execution_count": 2,
   "metadata": {},
   "outputs": [],
   "source": [
    "# # fetch dataset\n",
    "# online_retail = fetch_ucirepo(id=352)"
   ]
  },
  {
   "cell_type": "code",
   "execution_count": 3,
   "metadata": {},
   "outputs": [],
   "source": [
    "# df_metadata = online_retail.metadata\n",
    "\n",
    "# print(df_metadata)"
   ]
  },
  {
   "cell_type": "code",
   "execution_count": 4,
   "metadata": {},
   "outputs": [],
   "source": [
    "# df_variables = online_retail.metadata\n",
    "\n",
    "# print(df_variables)"
   ]
  },
  {
   "cell_type": "code",
   "execution_count": 5,
   "metadata": {},
   "outputs": [],
   "source": [
    "df = pd.read_excel(\"./data/Online Retail.xlsx\")"
   ]
  },
  {
   "cell_type": "code",
   "execution_count": 6,
   "metadata": {},
   "outputs": [
    {
     "name": "stdout",
     "output_type": "stream",
     "text": [
      "Data Para Konsumen Fashion Retail :    InvoiceNo StockCode                          Description  Quantity  \\\n",
      "0    536365    85123A   WHITE HANGING HEART T-LIGHT HOLDER         6   \n",
      "1    536365     71053                  WHITE METAL LANTERN         6   \n",
      "2    536365    84406B       CREAM CUPID HEARTS COAT HANGER         8   \n",
      "3    536365    84029G  KNITTED UNION FLAG HOT WATER BOTTLE         6   \n",
      "4    536365    84029E       RED WOOLLY HOTTIE WHITE HEART.         6   \n",
      "5    536365     22752         SET 7 BABUSHKA NESTING BOXES         2   \n",
      "6    536365     21730    GLASS STAR FROSTED T-LIGHT HOLDER         6   \n",
      "7    536366     22633               HAND WARMER UNION JACK         6   \n",
      "8    536366     22632            HAND WARMER RED POLKA DOT         6   \n",
      "9    536367     84879        ASSORTED COLOUR BIRD ORNAMENT        32   \n",
      "\n",
      "          InvoiceDate  UnitPrice  CustomerID         Country  \n",
      "0 2010-12-01 08:26:00       2.55     17850.0  United Kingdom  \n",
      "1 2010-12-01 08:26:00       3.39     17850.0  United Kingdom  \n",
      "2 2010-12-01 08:26:00       2.75     17850.0  United Kingdom  \n",
      "3 2010-12-01 08:26:00       3.39     17850.0  United Kingdom  \n",
      "4 2010-12-01 08:26:00       3.39     17850.0  United Kingdom  \n",
      "5 2010-12-01 08:26:00       7.65     17850.0  United Kingdom  \n",
      "6 2010-12-01 08:26:00       4.25     17850.0  United Kingdom  \n",
      "7 2010-12-01 08:28:00       1.85     17850.0  United Kingdom  \n",
      "8 2010-12-01 08:28:00       1.85     17850.0  United Kingdom  \n",
      "9 2010-12-01 08:34:00       1.69     13047.0  United Kingdom  \n"
     ]
    }
   ],
   "source": [
    "print(\"Data Para Konsumen Fashion Retail : \",df.head(10))"
   ]
  },
  {
   "cell_type": "markdown",
   "metadata": {},
   "source": [
    "## Assesing Data"
   ]
  },
  {
   "cell_type": "markdown",
   "metadata": {},
   "source": [
    "### Infomation Tabel Consumers Fashion Retail"
   ]
  },
  {
   "cell_type": "code",
   "execution_count": 7,
   "metadata": {},
   "outputs": [
    {
     "name": "stdout",
     "output_type": "stream",
     "text": [
      "<class 'pandas.core.frame.DataFrame'>\n",
      "RangeIndex: 541909 entries, 0 to 541908\n",
      "Data columns (total 8 columns):\n",
      " #   Column       Non-Null Count   Dtype         \n",
      "---  ------       --------------   -----         \n",
      " 0   InvoiceNo    541909 non-null  object        \n",
      " 1   StockCode    541909 non-null  object        \n",
      " 2   Description  540455 non-null  object        \n",
      " 3   Quantity     541909 non-null  int64         \n",
      " 4   InvoiceDate  541909 non-null  datetime64[ns]\n",
      " 5   UnitPrice    541909 non-null  float64       \n",
      " 6   CustomerID   406829 non-null  float64       \n",
      " 7   Country      541909 non-null  object        \n",
      "dtypes: datetime64[ns](1), float64(2), int64(1), object(4)\n",
      "memory usage: 33.1+ MB\n"
     ]
    }
   ],
   "source": [
    "df.info()"
   ]
  },
  {
   "cell_type": "markdown",
   "metadata": {},
   "source": [
    "- Terdapat 541,909 entri dalam dataset ini.\n",
    "- Kolom Description memiliki 1,454 nilai yang hilang (null).\n",
    "- Kolom CustomerID memiliki 135,080 nilai yang hilang (null), yang berarti sebagian besar transaksi tidak terkait dengan pelanggan tertentu.\n",
    "- Data ini memiliki beberapa tipe data, termasuk objek (string), integer, float, dan datetime."
   ]
  },
  {
   "cell_type": "markdown",
   "metadata": {},
   "source": [
    "Missing Value"
   ]
  },
  {
   "cell_type": "markdown",
   "metadata": {},
   "source": [
    "Kolom Description dan CustomerID"
   ]
  },
  {
   "cell_type": "code",
   "execution_count": 8,
   "metadata": {},
   "outputs": [
    {
     "name": "stdout",
     "output_type": "stream",
     "text": [
      "DataFrame Consumers Fashion Retail : \n",
      "InvoiceNo           0\n",
      "StockCode           0\n",
      "Description      1454\n",
      "Quantity            0\n",
      "InvoiceDate         0\n",
      "UnitPrice           0\n",
      "CustomerID     135080\n",
      "Country             0\n",
      "dtype: int64\n"
     ]
    }
   ],
   "source": [
    "print(\"DataFrame Consumers Fashion Retail : \")\n",
    "print(df.isna().sum())"
   ]
  },
  {
   "cell_type": "code",
   "execution_count": 9,
   "metadata": {},
   "outputs": [
    {
     "data": {
      "text/plain": [
       "<Axes: >"
      ]
     },
     "execution_count": 9,
     "metadata": {},
     "output_type": "execute_result"
    },
    {
     "data": {
      "image/png": "[encoded data removed]",
      "text/plain": [
       "<Figure size 2500x1000 with 2 Axes>"
      ]
     },
     "metadata": {},
     "output_type": "display_data"
    }
   ],
   "source": [
    "ms.matrix(df)"
   ]
  },
  {
   "cell_type": "code",
   "execution_count": 10,
   "metadata": {},
   "outputs": [
    {
     "data": {
      "text/html": [
       "<div>\n",
       "<style scoped>\n",
       "    .dataframe tbody tr th:only-of-type {\n",
       "        vertical-align: middle;\n",
       "    }\n",
       "\n",
       "    .dataframe tbody tr th {\n",
       "        vertical-align: top;\n",
       "    }\n",
       "\n",
       "    .dataframe thead th {\n",
       "        text-align: right;\n",
       "    }\n",
       "</style>\n",
       "<table border=\"1\" class=\"dataframe\">\n",
       "  <thead>\n",
       "    <tr style=\"text-align: right;\">\n",
       "      <th></th>\n",
       "      <th>InvoiceNo</th>\n",
       "      <th>StockCode</th>\n",
       "      <th>Description</th>\n",
       "      <th>Quantity</th>\n",
       "      <th>InvoiceDate</th>\n",
       "      <th>UnitPrice</th>\n",
       "      <th>CustomerID</th>\n",
       "      <th>Country</th>\n",
       "    </tr>\n",
       "  </thead>\n",
       "  <tbody>\n",
       "    <tr>\n",
       "      <th>417318</th>\n",
       "      <td>572653</td>\n",
       "      <td>22219</td>\n",
       "      <td>LOVEBIRD HANGING DECORATION WHITE</td>\n",
       "      <td>5</td>\n",
       "      <td>2011-10-25 12:12:00</td>\n",
       "      <td>0.85</td>\n",
       "      <td>15861.0</td>\n",
       "      <td>United Kingdom</td>\n",
       "    </tr>\n",
       "    <tr>\n",
       "      <th>275700</th>\n",
       "      <td>561006</td>\n",
       "      <td>22411</td>\n",
       "      <td>JUMBO SHOPPER VINTAGE RED PAISLEY</td>\n",
       "      <td>10</td>\n",
       "      <td>2011-07-22 15:02:00</td>\n",
       "      <td>2.08</td>\n",
       "      <td>16161.0</td>\n",
       "      <td>United Kingdom</td>\n",
       "    </tr>\n",
       "    <tr>\n",
       "      <th>318472</th>\n",
       "      <td>564835</td>\n",
       "      <td>21213</td>\n",
       "      <td>PACK OF 72 SKULL CAKE CASES</td>\n",
       "      <td>1</td>\n",
       "      <td>2011-08-30 12:31:00</td>\n",
       "      <td>1.25</td>\n",
       "      <td>NaN</td>\n",
       "      <td>United Kingdom</td>\n",
       "    </tr>\n",
       "    <tr>\n",
       "      <th>539023</th>\n",
       "      <td>581426</td>\n",
       "      <td>21218</td>\n",
       "      <td>RED SPOTTY BISCUIT TIN</td>\n",
       "      <td>1</td>\n",
       "      <td>2011-12-08 15:31:00</td>\n",
       "      <td>3.75</td>\n",
       "      <td>17757.0</td>\n",
       "      <td>United Kingdom</td>\n",
       "    </tr>\n",
       "    <tr>\n",
       "      <th>105779</th>\n",
       "      <td>545288</td>\n",
       "      <td>21470</td>\n",
       "      <td>FLOWER VINE RAFFIA FOOD COVER</td>\n",
       "      <td>2</td>\n",
       "      <td>2011-03-01 11:48:00</td>\n",
       "      <td>3.75</td>\n",
       "      <td>15311.0</td>\n",
       "      <td>United Kingdom</td>\n",
       "    </tr>\n",
       "    <tr>\n",
       "      <th>239226</th>\n",
       "      <td>558031</td>\n",
       "      <td>22667</td>\n",
       "      <td>RECIPE BOX RETROSPOT</td>\n",
       "      <td>6</td>\n",
       "      <td>2011-06-24 12:14:00</td>\n",
       "      <td>2.95</td>\n",
       "      <td>14180.0</td>\n",
       "      <td>United Kingdom</td>\n",
       "    </tr>\n",
       "    <tr>\n",
       "      <th>459340</th>\n",
       "      <td>575875</td>\n",
       "      <td>21791</td>\n",
       "      <td>VINTAGE HEADS AND TAILS CARD GAME</td>\n",
       "      <td>1</td>\n",
       "      <td>2011-11-11 13:06:00</td>\n",
       "      <td>2.46</td>\n",
       "      <td>NaN</td>\n",
       "      <td>United Kingdom</td>\n",
       "    </tr>\n",
       "    <tr>\n",
       "      <th>177303</th>\n",
       "      <td>552054</td>\n",
       "      <td>22149</td>\n",
       "      <td>FELTCRAFT 6 FLOWER FRIENDS</td>\n",
       "      <td>6</td>\n",
       "      <td>2011-05-06 10:19:00</td>\n",
       "      <td>2.10</td>\n",
       "      <td>15062.0</td>\n",
       "      <td>United Kingdom</td>\n",
       "    </tr>\n",
       "    <tr>\n",
       "      <th>497461</th>\n",
       "      <td>C578371</td>\n",
       "      <td>21972</td>\n",
       "      <td>SET OF 36 DINOSAUR PAPER DOILIES</td>\n",
       "      <td>-1</td>\n",
       "      <td>2011-11-24 11:16:00</td>\n",
       "      <td>1.45</td>\n",
       "      <td>14410.0</td>\n",
       "      <td>United Kingdom</td>\n",
       "    </tr>\n",
       "    <tr>\n",
       "      <th>454367</th>\n",
       "      <td>575520</td>\n",
       "      <td>23320</td>\n",
       "      <td>GIANT 50'S CHRISTMAS CRACKER</td>\n",
       "      <td>12</td>\n",
       "      <td>2011-11-10 10:56:00</td>\n",
       "      <td>2.89</td>\n",
       "      <td>17537.0</td>\n",
       "      <td>United Kingdom</td>\n",
       "    </tr>\n",
       "  </tbody>\n",
       "</table>\n",
       "</div>"
      ],
      "text/plain": [
       "       InvoiceNo StockCode                         Description  Quantity  \\\n",
       "417318    572653     22219  LOVEBIRD HANGING DECORATION WHITE          5   \n",
       "275700    561006     22411   JUMBO SHOPPER VINTAGE RED PAISLEY        10   \n",
       "318472    564835     21213         PACK OF 72 SKULL CAKE CASES         1   \n",
       "539023    581426     21218              RED SPOTTY BISCUIT TIN         1   \n",
       "105779    545288     21470       FLOWER VINE RAFFIA FOOD COVER         2   \n",
       "239226    558031     22667               RECIPE BOX RETROSPOT          6   \n",
       "459340    575875     21791  VINTAGE HEADS AND TAILS CARD GAME          1   \n",
       "177303    552054     22149          FELTCRAFT 6 FLOWER FRIENDS         6   \n",
       "497461   C578371     21972    SET OF 36 DINOSAUR PAPER DOILIES        -1   \n",
       "454367    575520     23320        GIANT 50'S CHRISTMAS CRACKER        12   \n",
       "\n",
       "               InvoiceDate  UnitPrice  CustomerID         Country  \n",
       "417318 2011-10-25 12:12:00       0.85     15861.0  United Kingdom  \n",
       "275700 2011-07-22 15:02:00       2.08     16161.0  United Kingdom  \n",
       "318472 2011-08-30 12:31:00       1.25         NaN  United Kingdom  \n",
       "539023 2011-12-08 15:31:00       3.75     17757.0  United Kingdom  \n",
       "105779 2011-03-01 11:48:00       3.75     15311.0  United Kingdom  \n",
       "239226 2011-06-24 12:14:00       2.95     14180.0  United Kingdom  \n",
       "459340 2011-11-11 13:06:00       2.46         NaN  United Kingdom  \n",
       "177303 2011-05-06 10:19:00       2.10     15062.0  United Kingdom  \n",
       "497461 2011-11-24 11:16:00       1.45     14410.0  United Kingdom  \n",
       "454367 2011-11-10 10:56:00       2.89     17537.0  United Kingdom  "
      ]
     },
     "execution_count": 10,
     "metadata": {},
     "output_type": "execute_result"
    }
   ],
   "source": [
    "df.sample(10)"
   ]
  },
  {
   "cell_type": "markdown",
   "metadata": {},
   "source": [
    "Duplicated Data"
   ]
  },
  {
   "cell_type": "code",
   "execution_count": 11,
   "metadata": {},
   "outputs": [
    {
     "name": "stdout",
     "output_type": "stream",
     "text": [
      "Jumlah Duplikasi :  5268\n"
     ]
    }
   ],
   "source": [
    "print('Jumlah Duplikasi : ', df.duplicated().sum())"
   ]
  },
  {
   "cell_type": "markdown",
   "metadata": {},
   "source": [
    "Descriptive analysis Statistic"
   ]
  },
  {
   "cell_type": "code",
   "execution_count": 12,
   "metadata": {},
   "outputs": [
    {
     "data": {
      "text/html": [
       "<style type=\"text/css\">\n",
       "#T_d56af_row0_col0, #T_d56af_row0_col2, #T_d56af_row0_col3 {\n",
       "  background-color: #49006a;\n",
       "  color: #f1f1f1;\n",
       "}\n",
       "#T_d56af_row1_col0, #T_d56af_row3_col0, #T_d56af_row4_col0, #T_d56af_row5_col0, #T_d56af_row7_col0 {\n",
       "  background-color: #fddfdc;\n",
       "  color: #000000;\n",
       "}\n",
       "#T_d56af_row1_col2, #T_d56af_row3_col2, #T_d56af_row4_col2, #T_d56af_row5_col2, #T_d56af_row7_col2 {\n",
       "  background-color: #fff3f0;\n",
       "  color: #000000;\n",
       "}\n",
       "#T_d56af_row1_col3, #T_d56af_row4_col3, #T_d56af_row5_col3 {\n",
       "  background-color: #fef1ed;\n",
       "  color: #000000;\n",
       "}\n",
       "#T_d56af_row2_col0, #T_d56af_row2_col2, #T_d56af_row7_col3 {\n",
       "  background-color: #fff7f3;\n",
       "  color: #000000;\n",
       "}\n",
       "#T_d56af_row2_col3 {\n",
       "  background-color: #fff3ef;\n",
       "  color: #000000;\n",
       "}\n",
       "#T_d56af_row3_col3 {\n",
       "  background-color: #fff2ee;\n",
       "  color: #000000;\n",
       "}\n",
       "#T_d56af_row6_col0 {\n",
       "  background-color: #fcc2bf;\n",
       "  color: #000000;\n",
       "}\n",
       "#T_d56af_row6_col2 {\n",
       "  background-color: #fee6e3;\n",
       "  color: #000000;\n",
       "}\n",
       "#T_d56af_row6_col3 {\n",
       "  background-color: #fef0ec;\n",
       "  color: #000000;\n",
       "}\n",
       "</style>\n",
       "<table id=\"T_d56af\">\n",
       "  <thead>\n",
       "    <tr>\n",
       "      <th class=\"blank level0\" >&nbsp;</th>\n",
       "      <th id=\"T_d56af_level0_col0\" class=\"col_heading level0 col0\" >Quantity</th>\n",
       "      <th id=\"T_d56af_level0_col1\" class=\"col_heading level0 col1\" >InvoiceDate</th>\n",
       "      <th id=\"T_d56af_level0_col2\" class=\"col_heading level0 col2\" >UnitPrice</th>\n",
       "      <th id=\"T_d56af_level0_col3\" class=\"col_heading level0 col3\" >CustomerID</th>\n",
       "    </tr>\n",
       "  </thead>\n",
       "  <tbody>\n",
       "    <tr>\n",
       "      <th id=\"T_d56af_level0_row0\" class=\"row_heading level0 row0\" >count</th>\n",
       "      <td id=\"T_d56af_row0_col0\" class=\"data row0 col0\" >541909.000000</td>\n",
       "      <td id=\"T_d56af_row0_col1\" class=\"data row0 col1\" >541909</td>\n",
       "      <td id=\"T_d56af_row0_col2\" class=\"data row0 col2\" >541909.000000</td>\n",
       "      <td id=\"T_d56af_row0_col3\" class=\"data row0 col3\" >406829.000000</td>\n",
       "    </tr>\n",
       "    <tr>\n",
       "      <th id=\"T_d56af_level0_row1\" class=\"row_heading level0 row1\" >mean</th>\n",
       "      <td id=\"T_d56af_row1_col0\" class=\"data row1 col0\" >9.552250</td>\n",
       "      <td id=\"T_d56af_row1_col1\" class=\"data row1 col1\" >2011-07-04 13:34:57.156386048</td>\n",
       "      <td id=\"T_d56af_row1_col2\" class=\"data row1 col2\" >4.611114</td>\n",
       "      <td id=\"T_d56af_row1_col3\" class=\"data row1 col3\" >15287.690570</td>\n",
       "    </tr>\n",
       "    <tr>\n",
       "      <th id=\"T_d56af_level0_row2\" class=\"row_heading level0 row2\" >min</th>\n",
       "      <td id=\"T_d56af_row2_col0\" class=\"data row2 col0\" >-80995.000000</td>\n",
       "      <td id=\"T_d56af_row2_col1\" class=\"data row2 col1\" >2010-12-01 08:26:00</td>\n",
       "      <td id=\"T_d56af_row2_col2\" class=\"data row2 col2\" >-11062.060000</td>\n",
       "      <td id=\"T_d56af_row2_col3\" class=\"data row2 col3\" >12346.000000</td>\n",
       "    </tr>\n",
       "    <tr>\n",
       "      <th id=\"T_d56af_level0_row3\" class=\"row_heading level0 row3\" >25%</th>\n",
       "      <td id=\"T_d56af_row3_col0\" class=\"data row3 col0\" >1.000000</td>\n",
       "      <td id=\"T_d56af_row3_col1\" class=\"data row3 col1\" >2011-03-28 11:34:00</td>\n",
       "      <td id=\"T_d56af_row3_col2\" class=\"data row3 col2\" >1.250000</td>\n",
       "      <td id=\"T_d56af_row3_col3\" class=\"data row3 col3\" >13953.000000</td>\n",
       "    </tr>\n",
       "    <tr>\n",
       "      <th id=\"T_d56af_level0_row4\" class=\"row_heading level0 row4\" >50%</th>\n",
       "      <td id=\"T_d56af_row4_col0\" class=\"data row4 col0\" >3.000000</td>\n",
       "      <td id=\"T_d56af_row4_col1\" class=\"data row4 col1\" >2011-07-19 17:17:00</td>\n",
       "      <td id=\"T_d56af_row4_col2\" class=\"data row4 col2\" >2.080000</td>\n",
       "      <td id=\"T_d56af_row4_col3\" class=\"data row4 col3\" >15152.000000</td>\n",
       "    </tr>\n",
       "    <tr>\n",
       "      <th id=\"T_d56af_level0_row5\" class=\"row_heading level0 row5\" >75%</th>\n",
       "      <td id=\"T_d56af_row5_col0\" class=\"data row5 col0\" >10.000000</td>\n",
       "      <td id=\"T_d56af_row5_col1\" class=\"data row5 col1\" >2011-10-19 11:27:00</td>\n",
       "      <td id=\"T_d56af_row5_col2\" class=\"data row5 col2\" >4.130000</td>\n",
       "      <td id=\"T_d56af_row5_col3\" class=\"data row5 col3\" >16791.000000</td>\n",
       "    </tr>\n",
       "    <tr>\n",
       "      <th id=\"T_d56af_level0_row6\" class=\"row_heading level0 row6\" >max</th>\n",
       "      <td id=\"T_d56af_row6_col0\" class=\"data row6 col0\" >80995.000000</td>\n",
       "      <td id=\"T_d56af_row6_col1\" class=\"data row6 col1\" >2011-12-09 12:50:00</td>\n",
       "      <td id=\"T_d56af_row6_col2\" class=\"data row6 col2\" >38970.000000</td>\n",
       "      <td id=\"T_d56af_row6_col3\" class=\"data row6 col3\" >18287.000000</td>\n",
       "    </tr>\n",
       "    <tr>\n",
       "      <th id=\"T_d56af_level0_row7\" class=\"row_heading level0 row7\" >std</th>\n",
       "      <td id=\"T_d56af_row7_col0\" class=\"data row7 col0\" >218.081158</td>\n",
       "      <td id=\"T_d56af_row7_col1\" class=\"data row7 col1\" >nan</td>\n",
       "      <td id=\"T_d56af_row7_col2\" class=\"data row7 col2\" >96.759853</td>\n",
       "      <td id=\"T_d56af_row7_col3\" class=\"data row7 col3\" >1713.600303</td>\n",
       "    </tr>\n",
       "  </tbody>\n",
       "</table>\n"
      ],
      "text/plain": [
       "<pandas.io.formats.style.Styler at 0x216cf0aa9d0>"
      ]
     },
     "execution_count": 12,
     "metadata": {},
     "output_type": "execute_result"
    }
   ],
   "source": [
    "df.describe().style.background_gradient(cmap='RdPu')"
   ]
  },
  {
   "cell_type": "markdown",
   "metadata": {},
   "source": [
    "- jumlah data entries ada : 541909 Data\n",
    "- Q1 dan Q3 Quantity : 1.25 and 4.13\n",
    "- Standard Deviation Quantity : 218.08\n",
    "- mean Quantity : 9.55%\n",
    "- mean UnitPrice : 4.61% \n",
    "- mean CustomerID : 15287 Customer"
   ]
  },
  {
   "cell_type": "markdown",
   "metadata": {},
   "source": [
    "### Cleaning Data"
   ]
  },
  {
   "cell_type": "markdown",
   "metadata": {},
   "source": [
    "#### Metode Imputation"
   ]
  },
  {
   "cell_type": "markdown",
   "metadata": {},
   "source": [
    "Kolom Description missing values 1454"
   ]
  },
  {
   "cell_type": "code",
   "execution_count": 13,
   "metadata": {},
   "outputs": [
    {
     "data": {
      "text/html": [
       "<div>\n",
       "<style scoped>\n",
       "    .dataframe tbody tr th:only-of-type {\n",
       "        vertical-align: middle;\n",
       "    }\n",
       "\n",
       "    .dataframe tbody tr th {\n",
       "        vertical-align: top;\n",
       "    }\n",
       "\n",
       "    .dataframe thead th {\n",
       "        text-align: right;\n",
       "    }\n",
       "</style>\n",
       "<table border=\"1\" class=\"dataframe\">\n",
       "  <thead>\n",
       "    <tr style=\"text-align: right;\">\n",
       "      <th></th>\n",
       "      <th>InvoiceNo</th>\n",
       "      <th>StockCode</th>\n",
       "      <th>Description</th>\n",
       "      <th>Quantity</th>\n",
       "      <th>InvoiceDate</th>\n",
       "      <th>UnitPrice</th>\n",
       "      <th>CustomerID</th>\n",
       "      <th>Country</th>\n",
       "    </tr>\n",
       "  </thead>\n",
       "  <tbody>\n",
       "    <tr>\n",
       "      <th>622</th>\n",
       "      <td>536414</td>\n",
       "      <td>22139</td>\n",
       "      <td>NaN</td>\n",
       "      <td>56</td>\n",
       "      <td>2010-12-01 11:52:00</td>\n",
       "      <td>0.0</td>\n",
       "      <td>NaN</td>\n",
       "      <td>United Kingdom</td>\n",
       "    </tr>\n",
       "    <tr>\n",
       "      <th>1970</th>\n",
       "      <td>536545</td>\n",
       "      <td>21134</td>\n",
       "      <td>NaN</td>\n",
       "      <td>1</td>\n",
       "      <td>2010-12-01 14:32:00</td>\n",
       "      <td>0.0</td>\n",
       "      <td>NaN</td>\n",
       "      <td>United Kingdom</td>\n",
       "    </tr>\n",
       "    <tr>\n",
       "      <th>1971</th>\n",
       "      <td>536546</td>\n",
       "      <td>22145</td>\n",
       "      <td>NaN</td>\n",
       "      <td>1</td>\n",
       "      <td>2010-12-01 14:33:00</td>\n",
       "      <td>0.0</td>\n",
       "      <td>NaN</td>\n",
       "      <td>United Kingdom</td>\n",
       "    </tr>\n",
       "    <tr>\n",
       "      <th>1972</th>\n",
       "      <td>536547</td>\n",
       "      <td>37509</td>\n",
       "      <td>NaN</td>\n",
       "      <td>1</td>\n",
       "      <td>2010-12-01 14:33:00</td>\n",
       "      <td>0.0</td>\n",
       "      <td>NaN</td>\n",
       "      <td>United Kingdom</td>\n",
       "    </tr>\n",
       "    <tr>\n",
       "      <th>1987</th>\n",
       "      <td>536549</td>\n",
       "      <td>85226A</td>\n",
       "      <td>NaN</td>\n",
       "      <td>1</td>\n",
       "      <td>2010-12-01 14:34:00</td>\n",
       "      <td>0.0</td>\n",
       "      <td>NaN</td>\n",
       "      <td>United Kingdom</td>\n",
       "    </tr>\n",
       "    <tr>\n",
       "      <th>...</th>\n",
       "      <td>...</td>\n",
       "      <td>...</td>\n",
       "      <td>...</td>\n",
       "      <td>...</td>\n",
       "      <td>...</td>\n",
       "      <td>...</td>\n",
       "      <td>...</td>\n",
       "      <td>...</td>\n",
       "    </tr>\n",
       "    <tr>\n",
       "      <th>535322</th>\n",
       "      <td>581199</td>\n",
       "      <td>84581</td>\n",
       "      <td>NaN</td>\n",
       "      <td>-2</td>\n",
       "      <td>2011-12-07 18:26:00</td>\n",
       "      <td>0.0</td>\n",
       "      <td>NaN</td>\n",
       "      <td>United Kingdom</td>\n",
       "    </tr>\n",
       "    <tr>\n",
       "      <th>535326</th>\n",
       "      <td>581203</td>\n",
       "      <td>23406</td>\n",
       "      <td>NaN</td>\n",
       "      <td>15</td>\n",
       "      <td>2011-12-07 18:31:00</td>\n",
       "      <td>0.0</td>\n",
       "      <td>NaN</td>\n",
       "      <td>United Kingdom</td>\n",
       "    </tr>\n",
       "    <tr>\n",
       "      <th>535332</th>\n",
       "      <td>581209</td>\n",
       "      <td>21620</td>\n",
       "      <td>NaN</td>\n",
       "      <td>6</td>\n",
       "      <td>2011-12-07 18:35:00</td>\n",
       "      <td>0.0</td>\n",
       "      <td>NaN</td>\n",
       "      <td>United Kingdom</td>\n",
       "    </tr>\n",
       "    <tr>\n",
       "      <th>536981</th>\n",
       "      <td>581234</td>\n",
       "      <td>72817</td>\n",
       "      <td>NaN</td>\n",
       "      <td>27</td>\n",
       "      <td>2011-12-08 10:33:00</td>\n",
       "      <td>0.0</td>\n",
       "      <td>NaN</td>\n",
       "      <td>United Kingdom</td>\n",
       "    </tr>\n",
       "    <tr>\n",
       "      <th>538554</th>\n",
       "      <td>581408</td>\n",
       "      <td>85175</td>\n",
       "      <td>NaN</td>\n",
       "      <td>20</td>\n",
       "      <td>2011-12-08 14:06:00</td>\n",
       "      <td>0.0</td>\n",
       "      <td>NaN</td>\n",
       "      <td>United Kingdom</td>\n",
       "    </tr>\n",
       "  </tbody>\n",
       "</table>\n",
       "<p>1454 rows × 8 columns</p>\n",
       "</div>"
      ],
      "text/plain": [
       "       InvoiceNo StockCode Description  Quantity         InvoiceDate  \\\n",
       "622       536414     22139         NaN        56 2010-12-01 11:52:00   \n",
       "1970      536545     21134         NaN         1 2010-12-01 14:32:00   \n",
       "1971      536546     22145         NaN         1 2010-12-01 14:33:00   \n",
       "1972      536547     37509         NaN         1 2010-12-01 14:33:00   \n",
       "1987      536549    85226A         NaN         1 2010-12-01 14:34:00   \n",
       "...          ...       ...         ...       ...                 ...   \n",
       "535322    581199     84581         NaN        -2 2011-12-07 18:26:00   \n",
       "535326    581203     23406         NaN        15 2011-12-07 18:31:00   \n",
       "535332    581209     21620         NaN         6 2011-12-07 18:35:00   \n",
       "536981    581234     72817         NaN        27 2011-12-08 10:33:00   \n",
       "538554    581408     85175         NaN        20 2011-12-08 14:06:00   \n",
       "\n",
       "        UnitPrice  CustomerID         Country  \n",
       "622           0.0         NaN  United Kingdom  \n",
       "1970          0.0         NaN  United Kingdom  \n",
       "1971          0.0         NaN  United Kingdom  \n",
       "1972          0.0         NaN  United Kingdom  \n",
       "1987          0.0         NaN  United Kingdom  \n",
       "...           ...         ...             ...  \n",
       "535322        0.0         NaN  United Kingdom  \n",
       "535326        0.0         NaN  United Kingdom  \n",
       "535332        0.0         NaN  United Kingdom  \n",
       "536981        0.0         NaN  United Kingdom  \n",
       "538554        0.0         NaN  United Kingdom  \n",
       "\n",
       "[1454 rows x 8 columns]"
      ]
     },
     "execution_count": 13,
     "metadata": {},
     "output_type": "execute_result"
    }
   ],
   "source": [
    "df[df.Description .isna()]"
   ]
  },
  {
   "cell_type": "code",
   "execution_count": 14,
   "metadata": {},
   "outputs": [
    {
     "data": {
      "text/plain": [
       "Description\n",
       "WHITE HANGING HEART T-LIGHT HOLDER     2369\n",
       "REGENCY CAKESTAND 3 TIER               2200\n",
       "JUMBO BAG RED RETROSPOT                2159\n",
       "PARTY BUNTING                          1727\n",
       "LUNCH BAG RED RETROSPOT                1638\n",
       "                                       ... \n",
       "Missing                                   1\n",
       "historic computer difference?....se       1\n",
       "DUSTY PINK CHRISTMAS TREE 30CM            1\n",
       "WRAP BLUE RUSSIAN FOLKART                 1\n",
       "PINK BERTIE MOBILE PHONE CHARM            1\n",
       "Name: count, Length: 4223, dtype: int64"
      ]
     },
     "execution_count": 14,
     "metadata": {},
     "output_type": "execute_result"
    }
   ],
   "source": [
    "df.Description.value_counts()"
   ]
  },
  {
   "cell_type": "code",
   "execution_count": 15,
   "metadata": {},
   "outputs": [
    {
     "name": "stdout",
     "output_type": "stream",
     "text": [
      "InvoiceNo           0\n",
      "StockCode           0\n",
      "Description         0\n",
      "Quantity            0\n",
      "InvoiceDate         0\n",
      "UnitPrice           0\n",
      "CustomerID     135080\n",
      "Country             0\n",
      "dtype: int64\n"
     ]
    }
   ],
   "source": [
    "# df['Description'].fillna(df['Description'].mean(), inplace=True)\n",
    "df['Description'].fillna('Unknown', inplace=True)\n",
    "\n",
    "print(df.isna().sum())"
   ]
  },
  {
   "cell_type": "markdown",
   "metadata": {},
   "source": [
    "Kolom Customer missing values 135.080"
   ]
  },
  {
   "cell_type": "code",
   "execution_count": 16,
   "metadata": {},
   "outputs": [
    {
     "data": {
      "text/html": [
       "<div>\n",
       "<style scoped>\n",
       "    .dataframe tbody tr th:only-of-type {\n",
       "        vertical-align: middle;\n",
       "    }\n",
       "\n",
       "    .dataframe tbody tr th {\n",
       "        vertical-align: top;\n",
       "    }\n",
       "\n",
       "    .dataframe thead th {\n",
       "        text-align: right;\n",
       "    }\n",
       "</style>\n",
       "<table border=\"1\" class=\"dataframe\">\n",
       "  <thead>\n",
       "    <tr style=\"text-align: right;\">\n",
       "      <th></th>\n",
       "      <th>InvoiceNo</th>\n",
       "      <th>StockCode</th>\n",
       "      <th>Description</th>\n",
       "      <th>Quantity</th>\n",
       "      <th>InvoiceDate</th>\n",
       "      <th>UnitPrice</th>\n",
       "      <th>CustomerID</th>\n",
       "      <th>Country</th>\n",
       "    </tr>\n",
       "  </thead>\n",
       "  <tbody>\n",
       "    <tr>\n",
       "      <th>622</th>\n",
       "      <td>536414</td>\n",
       "      <td>22139</td>\n",
       "      <td>Unknown</td>\n",
       "      <td>56</td>\n",
       "      <td>2010-12-01 11:52:00</td>\n",
       "      <td>0.00</td>\n",
       "      <td>NaN</td>\n",
       "      <td>United Kingdom</td>\n",
       "    </tr>\n",
       "    <tr>\n",
       "      <th>1443</th>\n",
       "      <td>536544</td>\n",
       "      <td>21773</td>\n",
       "      <td>DECORATIVE ROSE BATHROOM BOTTLE</td>\n",
       "      <td>1</td>\n",
       "      <td>2010-12-01 14:32:00</td>\n",
       "      <td>2.51</td>\n",
       "      <td>NaN</td>\n",
       "      <td>United Kingdom</td>\n",
       "    </tr>\n",
       "    <tr>\n",
       "      <th>1444</th>\n",
       "      <td>536544</td>\n",
       "      <td>21774</td>\n",
       "      <td>DECORATIVE CATS BATHROOM BOTTLE</td>\n",
       "      <td>2</td>\n",
       "      <td>2010-12-01 14:32:00</td>\n",
       "      <td>2.51</td>\n",
       "      <td>NaN</td>\n",
       "      <td>United Kingdom</td>\n",
       "    </tr>\n",
       "    <tr>\n",
       "      <th>1445</th>\n",
       "      <td>536544</td>\n",
       "      <td>21786</td>\n",
       "      <td>POLKADOT RAIN HAT</td>\n",
       "      <td>4</td>\n",
       "      <td>2010-12-01 14:32:00</td>\n",
       "      <td>0.85</td>\n",
       "      <td>NaN</td>\n",
       "      <td>United Kingdom</td>\n",
       "    </tr>\n",
       "    <tr>\n",
       "      <th>1446</th>\n",
       "      <td>536544</td>\n",
       "      <td>21787</td>\n",
       "      <td>RAIN PONCHO RETROSPOT</td>\n",
       "      <td>2</td>\n",
       "      <td>2010-12-01 14:32:00</td>\n",
       "      <td>1.66</td>\n",
       "      <td>NaN</td>\n",
       "      <td>United Kingdom</td>\n",
       "    </tr>\n",
       "    <tr>\n",
       "      <th>...</th>\n",
       "      <td>...</td>\n",
       "      <td>...</td>\n",
       "      <td>...</td>\n",
       "      <td>...</td>\n",
       "      <td>...</td>\n",
       "      <td>...</td>\n",
       "      <td>...</td>\n",
       "      <td>...</td>\n",
       "    </tr>\n",
       "    <tr>\n",
       "      <th>541536</th>\n",
       "      <td>581498</td>\n",
       "      <td>85099B</td>\n",
       "      <td>JUMBO BAG RED RETROSPOT</td>\n",
       "      <td>5</td>\n",
       "      <td>2011-12-09 10:26:00</td>\n",
       "      <td>4.13</td>\n",
       "      <td>NaN</td>\n",
       "      <td>United Kingdom</td>\n",
       "    </tr>\n",
       "    <tr>\n",
       "      <th>541537</th>\n",
       "      <td>581498</td>\n",
       "      <td>85099C</td>\n",
       "      <td>JUMBO  BAG BAROQUE BLACK WHITE</td>\n",
       "      <td>4</td>\n",
       "      <td>2011-12-09 10:26:00</td>\n",
       "      <td>4.13</td>\n",
       "      <td>NaN</td>\n",
       "      <td>United Kingdom</td>\n",
       "    </tr>\n",
       "    <tr>\n",
       "      <th>541538</th>\n",
       "      <td>581498</td>\n",
       "      <td>85150</td>\n",
       "      <td>LADIES &amp; GENTLEMEN METAL SIGN</td>\n",
       "      <td>1</td>\n",
       "      <td>2011-12-09 10:26:00</td>\n",
       "      <td>4.96</td>\n",
       "      <td>NaN</td>\n",
       "      <td>United Kingdom</td>\n",
       "    </tr>\n",
       "    <tr>\n",
       "      <th>541539</th>\n",
       "      <td>581498</td>\n",
       "      <td>85174</td>\n",
       "      <td>S/4 CACTI CANDLES</td>\n",
       "      <td>1</td>\n",
       "      <td>2011-12-09 10:26:00</td>\n",
       "      <td>10.79</td>\n",
       "      <td>NaN</td>\n",
       "      <td>United Kingdom</td>\n",
       "    </tr>\n",
       "    <tr>\n",
       "      <th>541540</th>\n",
       "      <td>581498</td>\n",
       "      <td>DOT</td>\n",
       "      <td>DOTCOM POSTAGE</td>\n",
       "      <td>1</td>\n",
       "      <td>2011-12-09 10:26:00</td>\n",
       "      <td>1714.17</td>\n",
       "      <td>NaN</td>\n",
       "      <td>United Kingdom</td>\n",
       "    </tr>\n",
       "  </tbody>\n",
       "</table>\n",
       "<p>135080 rows × 8 columns</p>\n",
       "</div>"
      ],
      "text/plain": [
       "       InvoiceNo StockCode                      Description  Quantity  \\\n",
       "622       536414     22139                          Unknown        56   \n",
       "1443      536544     21773  DECORATIVE ROSE BATHROOM BOTTLE         1   \n",
       "1444      536544     21774  DECORATIVE CATS BATHROOM BOTTLE         2   \n",
       "1445      536544     21786               POLKADOT RAIN HAT          4   \n",
       "1446      536544     21787            RAIN PONCHO RETROSPOT         2   \n",
       "...          ...       ...                              ...       ...   \n",
       "541536    581498    85099B          JUMBO BAG RED RETROSPOT         5   \n",
       "541537    581498    85099C   JUMBO  BAG BAROQUE BLACK WHITE         4   \n",
       "541538    581498     85150    LADIES & GENTLEMEN METAL SIGN         1   \n",
       "541539    581498     85174                S/4 CACTI CANDLES         1   \n",
       "541540    581498       DOT                   DOTCOM POSTAGE         1   \n",
       "\n",
       "               InvoiceDate  UnitPrice  CustomerID         Country  \n",
       "622    2010-12-01 11:52:00       0.00         NaN  United Kingdom  \n",
       "1443   2010-12-01 14:32:00       2.51         NaN  United Kingdom  \n",
       "1444   2010-12-01 14:32:00       2.51         NaN  United Kingdom  \n",
       "1445   2010-12-01 14:32:00       0.85         NaN  United Kingdom  \n",
       "1446   2010-12-01 14:32:00       1.66         NaN  United Kingdom  \n",
       "...                    ...        ...         ...             ...  \n",
       "541536 2011-12-09 10:26:00       4.13         NaN  United Kingdom  \n",
       "541537 2011-12-09 10:26:00       4.13         NaN  United Kingdom  \n",
       "541538 2011-12-09 10:26:00       4.96         NaN  United Kingdom  \n",
       "541539 2011-12-09 10:26:00      10.79         NaN  United Kingdom  \n",
       "541540 2011-12-09 10:26:00    1714.17         NaN  United Kingdom  \n",
       "\n",
       "[135080 rows x 8 columns]"
      ]
     },
     "execution_count": 16,
     "metadata": {},
     "output_type": "execute_result"
    }
   ],
   "source": [
    "df[df.CustomerID .isna()]"
   ]
  },
  {
   "cell_type": "code",
   "execution_count": 17,
   "metadata": {},
   "outputs": [
    {
     "data": {
      "text/plain": [
       "CustomerID\n",
       "17841.0    7983\n",
       "14911.0    5903\n",
       "14096.0    5128\n",
       "12748.0    4642\n",
       "14606.0    2782\n",
       "           ... \n",
       "15070.0       1\n",
       "15753.0       1\n",
       "17065.0       1\n",
       "16881.0       1\n",
       "16995.0       1\n",
       "Name: count, Length: 4372, dtype: int64"
      ]
     },
     "execution_count": 17,
     "metadata": {},
     "output_type": "execute_result"
    }
   ],
   "source": [
    "df.CustomerID.value_counts()"
   ]
  },
  {
   "cell_type": "code",
   "execution_count": 18,
   "metadata": {},
   "outputs": [],
   "source": [
    "# Menghapus kolom 'CustomerID' dari DataFrame\n",
    "df = df.drop(columns=['CustomerID'])"
   ]
  },
  {
   "cell_type": "code",
   "execution_count": 19,
   "metadata": {},
   "outputs": [
    {
     "name": "stdout",
     "output_type": "stream",
     "text": [
      "InvoiceNo      0\n",
      "StockCode      0\n",
      "Description    0\n",
      "Quantity       0\n",
      "InvoiceDate    0\n",
      "UnitPrice      0\n",
      "Country        0\n",
      "dtype: int64\n"
     ]
    }
   ],
   "source": [
    "print(df.isna().sum())"
   ]
  },
  {
   "cell_type": "code",
   "execution_count": 20,
   "metadata": {},
   "outputs": [
    {
     "name": "stdout",
     "output_type": "stream",
     "text": [
      "<class 'pandas.core.frame.DataFrame'>\n",
      "RangeIndex: 541909 entries, 0 to 541908\n",
      "Data columns (total 7 columns):\n",
      " #   Column       Non-Null Count   Dtype         \n",
      "---  ------       --------------   -----         \n",
      " 0   InvoiceNo    541909 non-null  object        \n",
      " 1   StockCode    541909 non-null  object        \n",
      " 2   Description  541909 non-null  object        \n",
      " 3   Quantity     541909 non-null  int64         \n",
      " 4   InvoiceDate  541909 non-null  datetime64[ns]\n",
      " 5   UnitPrice    541909 non-null  float64       \n",
      " 6   Country      541909 non-null  object        \n",
      "dtypes: datetime64[ns](1), float64(1), int64(1), object(4)\n",
      "memory usage: 28.9+ MB\n"
     ]
    }
   ],
   "source": [
    "df.info()"
   ]
  },
  {
   "cell_type": "code",
   "execution_count": 21,
   "metadata": {},
   "outputs": [
    {
     "name": "stdout",
     "output_type": "stream",
     "text": [
      "Jumlah Data yang duplicate 0\n"
     ]
    }
   ],
   "source": [
    "if df.duplicated().sum() > 0:\n",
    "    df.drop_duplicates(inplace=True)\n",
    "    df.reset_index(inplace=True, drop=True)\n",
    "\n",
    "print(\"Jumlah Data yang duplicate\", df.duplicated().sum())"
   ]
  },
  {
   "cell_type": "code",
   "execution_count": 22,
   "metadata": {},
   "outputs": [],
   "source": [
    "# Mengkoreksi nilai negatif pada Quantity menjadi nilai positif\n",
    "df['Quantity'] = df['Quantity'].apply(lambda x: max(0, x))\n",
    "\n",
    "# Mengkoreksi nilai negatif pada UnitPrice menjadi nilai positif\n",
    "df['UnitPrice'] = df['UnitPrice'].apply(lambda x: max(0, x))"
   ]
  },
  {
   "cell_type": "code",
   "execution_count": 23,
   "metadata": {},
   "outputs": [
    {
     "data": {
      "text/html": [
       "<style type=\"text/css\">\n",
       "#T_0c08d_row0_col0, #T_0c08d_row0_col2 {\n",
       "  background-color: #49006a;\n",
       "  color: #f1f1f1;\n",
       "}\n",
       "#T_0c08d_row1_col0, #T_0c08d_row1_col2, #T_0c08d_row2_col0, #T_0c08d_row2_col2, #T_0c08d_row3_col0, #T_0c08d_row3_col2, #T_0c08d_row4_col0, #T_0c08d_row4_col2, #T_0c08d_row5_col0, #T_0c08d_row5_col2, #T_0c08d_row7_col0, #T_0c08d_row7_col2 {\n",
       "  background-color: #fff7f3;\n",
       "  color: #000000;\n",
       "}\n",
       "#T_0c08d_row6_col0 {\n",
       "  background-color: #fddbd7;\n",
       "  color: #000000;\n",
       "}\n",
       "#T_0c08d_row6_col2 {\n",
       "  background-color: #feeae7;\n",
       "  color: #000000;\n",
       "}\n",
       "</style>\n",
       "<table id=\"T_0c08d\">\n",
       "  <thead>\n",
       "    <tr>\n",
       "      <th class=\"blank level0\" >&nbsp;</th>\n",
       "      <th id=\"T_0c08d_level0_col0\" class=\"col_heading level0 col0\" >Quantity</th>\n",
       "      <th id=\"T_0c08d_level0_col1\" class=\"col_heading level0 col1\" >InvoiceDate</th>\n",
       "      <th id=\"T_0c08d_level0_col2\" class=\"col_heading level0 col2\" >UnitPrice</th>\n",
       "    </tr>\n",
       "  </thead>\n",
       "  <tbody>\n",
       "    <tr>\n",
       "      <th id=\"T_0c08d_level0_row0\" class=\"row_heading level0 row0\" >count</th>\n",
       "      <td id=\"T_0c08d_row0_col0\" class=\"data row0 col0\" >536641.000000</td>\n",
       "      <td id=\"T_0c08d_row0_col1\" class=\"data row0 col1\" >536641</td>\n",
       "      <td id=\"T_0c08d_row0_col2\" class=\"data row0 col2\" >536641.000000</td>\n",
       "    </tr>\n",
       "    <tr>\n",
       "      <th id=\"T_0c08d_level0_row1\" class=\"row_heading level0 row1\" >mean</th>\n",
       "      <td id=\"T_0c08d_row1_col0\" class=\"data row1 col0\" >10.519172</td>\n",
       "      <td id=\"T_0c08d_row1_col1\" class=\"data row1 col1\" >2011-07-04 08:57:06.087421952</td>\n",
       "      <td id=\"T_0c08d_row1_col2\" class=\"data row1 col2\" >4.673883</td>\n",
       "    </tr>\n",
       "    <tr>\n",
       "      <th id=\"T_0c08d_level0_row2\" class=\"row_heading level0 row2\" >min</th>\n",
       "      <td id=\"T_0c08d_row2_col0\" class=\"data row2 col0\" >0.000000</td>\n",
       "      <td id=\"T_0c08d_row2_col1\" class=\"data row2 col1\" >2010-12-01 08:26:00</td>\n",
       "      <td id=\"T_0c08d_row2_col2\" class=\"data row2 col2\" >0.000000</td>\n",
       "    </tr>\n",
       "    <tr>\n",
       "      <th id=\"T_0c08d_level0_row3\" class=\"row_heading level0 row3\" >25%</th>\n",
       "      <td id=\"T_0c08d_row3_col0\" class=\"data row3 col0\" >1.000000</td>\n",
       "      <td id=\"T_0c08d_row3_col1\" class=\"data row3 col1\" >2011-03-28 10:52:00</td>\n",
       "      <td id=\"T_0c08d_row3_col2\" class=\"data row3 col2\" >1.250000</td>\n",
       "    </tr>\n",
       "    <tr>\n",
       "      <th id=\"T_0c08d_level0_row4\" class=\"row_heading level0 row4\" >50%</th>\n",
       "      <td id=\"T_0c08d_row4_col0\" class=\"data row4 col0\" >3.000000</td>\n",
       "      <td id=\"T_0c08d_row4_col1\" class=\"data row4 col1\" >2011-07-19 14:04:00</td>\n",
       "      <td id=\"T_0c08d_row4_col2\" class=\"data row4 col2\" >2.080000</td>\n",
       "    </tr>\n",
       "    <tr>\n",
       "      <th id=\"T_0c08d_level0_row5\" class=\"row_heading level0 row5\" >75%</th>\n",
       "      <td id=\"T_0c08d_row5_col0\" class=\"data row5 col0\" >10.000000</td>\n",
       "      <td id=\"T_0c08d_row5_col1\" class=\"data row5 col1\" >2011-10-18 17:05:00</td>\n",
       "      <td id=\"T_0c08d_row5_col2\" class=\"data row5 col2\" >4.130000</td>\n",
       "    </tr>\n",
       "    <tr>\n",
       "      <th id=\"T_0c08d_level0_row6\" class=\"row_heading level0 row6\" >max</th>\n",
       "      <td id=\"T_0c08d_row6_col0\" class=\"data row6 col0\" >80995.000000</td>\n",
       "      <td id=\"T_0c08d_row6_col1\" class=\"data row6 col1\" >2011-12-09 12:50:00</td>\n",
       "      <td id=\"T_0c08d_row6_col2\" class=\"data row6 col2\" >38970.000000</td>\n",
       "    </tr>\n",
       "    <tr>\n",
       "      <th id=\"T_0c08d_level0_row7\" class=\"row_heading level0 row7\" >std</th>\n",
       "      <td id=\"T_0c08d_row7_col0\" class=\"data row7 col0\" >156.036720</td>\n",
       "      <td id=\"T_0c08d_row7_col1\" class=\"data row7 col1\" >nan</td>\n",
       "      <td id=\"T_0c08d_row7_col2\" class=\"data row7 col2\" >94.856938</td>\n",
       "    </tr>\n",
       "  </tbody>\n",
       "</table>\n"
      ],
      "text/plain": [
       "<pandas.io.formats.style.Styler at 0x216cec74c50>"
      ]
     },
     "execution_count": 23,
     "metadata": {},
     "output_type": "execute_result"
    }
   ],
   "source": [
    "df.describe().style.background_gradient(cmap='RdPu')"
   ]
  },
  {
   "cell_type": "markdown",
   "metadata": {},
   "source": [
    "# Exploratory Data Analysis (EDA)"
   ]
  },
  {
   "cell_type": "code",
   "execution_count": 24,
   "metadata": {},
   "outputs": [
    {
     "name": "stdout",
     "output_type": "stream",
     "text": [
      "<class 'pandas.core.frame.DataFrame'>\n",
      "RangeIndex: 536641 entries, 0 to 536640\n",
      "Data columns (total 7 columns):\n",
      " #   Column       Non-Null Count   Dtype         \n",
      "---  ------       --------------   -----         \n",
      " 0   InvoiceNo    536641 non-null  object        \n",
      " 1   StockCode    536641 non-null  object        \n",
      " 2   Description  536641 non-null  object        \n",
      " 3   Quantity     536641 non-null  int64         \n",
      " 4   InvoiceDate  536641 non-null  datetime64[ns]\n",
      " 5   UnitPrice    536641 non-null  float64       \n",
      " 6   Country      536641 non-null  object        \n",
      "dtypes: datetime64[ns](1), float64(1), int64(1), object(4)\n",
      "memory usage: 28.7+ MB\n"
     ]
    }
   ],
   "source": [
    "df.info()"
   ]
  },
  {
   "cell_type": "code",
   "execution_count": 25,
   "metadata": {},
   "outputs": [
    {
     "name": "stdout",
     "output_type": "stream",
     "text": [
      "Top 10 StockCodes with highest total quantity sold:\n",
      "     StockCode  Quantity\n",
      "2429     23843     80995\n",
      "1983     23166     78033\n",
      "1070     22197     56898\n",
      "2622     84077     54951\n",
      "3659    85099B     48375\n",
      "3670    85123A     41645\n",
      "377      21212     36396\n",
      "2735     84879     36362\n",
      "1905     23084     31673\n",
      "1335     22492     26633\n"
     ]
    }
   ],
   "source": [
    "# Focus on StockCode and Quantity columns\n",
    "df_stock_quantity = df[[\"StockCode\", \"Quantity\"]]\n",
    "\n",
    "# Calculate total quantity sold for each StockCode\n",
    "stock_quantity_sold = df_stock_quantity.groupby(\n",
    "    \"StockCode\")[\"Quantity\"].sum().reset_index()\n",
    "\n",
    "# Sort by total quantity sold in descending order\n",
    "stock_quantity_sold = stock_quantity_sold.sort_values(\n",
    "    \"Quantity\", ascending=False)\n",
    "\n",
    "# Top 10 StockCodes with highest total quantity sold\n",
    "top_10_stockcodes = stock_quantity_sold.head(10)\n",
    "\n",
    "print(\"Top 10 StockCodes with highest total quantity sold:\")\n",
    "print(top_10_stockcodes)"
   ]
  },
  {
   "cell_type": "code",
   "execution_count": 26,
   "metadata": {},
   "outputs": [
    {
     "data": {
      "image/png": "[encoded data removed]",
      "text/plain": [
       "<Figure size 1000x600 with 1 Axes>"
      ]
     },
     "metadata": {},
     "output_type": "display_data"
    }
   ],
   "source": [
    "# Plot bar chart of top 10 StockCodes\n",
    "\n",
    "plt.figure(figsize=(10, 6))\n",
    "plt.bar(range(len(top_10_stockcodes)), top_10_stockcodes[\"Quantity\"])\n",
    "plt.xlabel(\"Rank\")\n",
    "plt.ylabel(\"Total Quantity Sold\")\n",
    "plt.title(\"Top 10 StockCodes with Highest Total Quantity Sold\")\n",
    "\n",
    "# Add StockCode labels to each bar\n",
    "plt.xticks(range(len(top_10_stockcodes)),\n",
    "        top_10_stockcodes[\"StockCode\"], rotation=90)\n",
    "\n",
    "plt.show()"
   ]
  },
  {
   "cell_type": "code",
   "execution_count": 27,
   "metadata": {},
   "outputs": [
    {
     "name": "stdout",
     "output_type": "stream",
     "text": [
      "Rata-rata jumlah produk yang terjual dalam setiap transaksi: 217.95440154440155\n"
     ]
    }
   ],
   "source": [
    "# Menghitung rata-rata jumlah produk yang terjual dalam setiap transaksi\n",
    "average_quantity = df.groupby('InvoiceNo')['Quantity'].sum().mean()\n",
    "\n",
    "print(\"Rata-rata jumlah produk yang terjual dalam setiap transaksi:\", average_quantity)"
   ]
  },
  {
   "cell_type": "code",
   "execution_count": 29,
   "metadata": {},
   "outputs": [
    {
     "ename": "ModuleNotFoundError",
     "evalue": "No module named 'plotly'",
     "output_type": "error",
     "traceback": [
      "\u001b[1;31m---------------------------------------------------------------------------\u001b[0m",
      "\u001b[1;31mModuleNotFoundError\u001b[0m                       Traceback (most recent call last)",
      "Cell \u001b[1;32mIn[29], line 1\u001b[0m\n\u001b[1;32m----> 1\u001b[0m \u001b[38;5;28;01mimport\u001b[39;00m \u001b[38;5;21;01mplotly\u001b[39;00m\u001b[38;5;21;01m.\u001b[39;00m\u001b[38;5;21;01mexpress\u001b[39;00m \u001b[38;5;28;01mas\u001b[39;00m \u001b[38;5;21;01mpx\u001b[39;00m\n\u001b[0;32m      3\u001b[0m \u001b[38;5;66;03m# Load dataset\u001b[39;00m\n\u001b[0;32m      4\u001b[0m url \u001b[38;5;241m=\u001b[39m \u001b[38;5;124m\"\u001b[39m\u001b[38;5;124mhttps://archive.ics.uci.edu/ml/machine-learning-databases/00352/Online\u001b[39m\u001b[38;5;124m%\u001b[39m\u001b[38;5;124m20Retail.xlsx\u001b[39m\u001b[38;5;124m\"\u001b[39m\n",
      "\u001b[1;31mModuleNotFoundError\u001b[0m: No module named 'plotly'"
     ]
    }
   ],
   "source": [
    "import plotly.express as px\n",
    "\n",
    "# Load dataset\n",
    "url = \"https://archive.ics.uci.edu/ml/machine-learning-databases/00352/Online%20Retail.xlsx\"\n",
    "df = pd.read_excel(url)\n",
    "\n",
    "# Hitung rata-rata jumlah produk yang terjual dalam setiap transaksi\n",
    "average_quantity = df.groupby('InvoiceNo')['Quantity'].sum().mean()\n",
    "\n",
    "print(\"Rata-rata jumlah produk yang terjual dalam setiap transaksi:\", average_quantity)\n",
    "\n",
    "# Visualisasi menggunakan Plotly Express\n",
    "fig = px.histogram(df.groupby('InvoiceNo')['Quantity'].sum(), x='Quantity',\n",
    "                   title='Distribution of Quantity Sold per Transaction',\n",
    "                   labels={'Quantity': 'Number of Products Sold'})\n",
    "fig.update_layout(bargap=0.1)\n",
    "fig.show()"
   ]
  }
 ],
 "metadata": {
  "kernelspec": {
   "display_name": "consumers",
   "language": "python",
   "name": "python3"
  },
  "language_info": {
   "codemirror_mode": {
    "name": "ipython",
    "version": 3
   },
   "file_extension": ".py",
   "mimetype": "text/x-python",
   "name": "python",
   "nbconvert_exporter": "python",
   "pygments_lexer": "ipython3",
   "version": "3.11.5"
  }
 },
 "nbformat": 4,
 "nbformat_minor": 2
}
